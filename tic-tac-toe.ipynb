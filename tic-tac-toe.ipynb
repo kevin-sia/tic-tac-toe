{
 "cells": [
  {
   "cell_type": "markdown",
   "metadata": {},
   "source": [
    "# **Tic-Tac-Toe in Python**\n",
    "\n",
    "An exercise in writing functions, loops, and defensive code in Python.\n",
    "\n",
    "Player 1 chooses their marker, then both players alternate taking turns by indicating which position in the Tic-Tac-Toe board they want to put their marker on.  A player wins if a row, column, or diagonal consists only of their marker."
   ]
  },
  {
   "cell_type": "markdown",
   "metadata": {},
   "source": [
    "Some considerations:\n",
    "\n",
    "- The board must be a list object\n",
    "    - We require the _mutable_ property of Python lists to update the players' moves\n",
    "    - The list must have only 9 elements, each one corresponding to a space on the board\n",
    "    - We must ensure that the board list elements are only either ' ' (blank space), 'X', or 'O'\n",
    "- Any time a board position is checked or requested, the input index should be an integer between 1-9 inclusive\n",
    "    - This maps very easily to the layout of a keyboard numpad (i.e. the bottom left space is index 1, the top right space is index 9, etc.) which makes it easier for the players"
   ]
  },
  {
   "cell_type": "markdown",
   "metadata": {},
   "source": [
    "---"
   ]
  },
  {
   "cell_type": "markdown",
   "metadata": {},
   "source": [
    "## **Creating Game Functions**"
   ]
  },
  {
   "cell_type": "markdown",
   "metadata": {},
   "source": [
    "### Displaying the game board"
   ]
  },
  {
   "cell_type": "code",
   "execution_count": 1,
   "metadata": {},
   "outputs": [],
   "source": [
    "from IPython.display import clear_output\n",
    "\n",
    "def display_board(board):\n",
    "    '''\n",
    "    Display the Tic-Tac-Toe board at any stage in the game.\n",
    "    \n",
    "    INPUTS\n",
    "    board: The game board.\n",
    "    \n",
    "    OUTPUTS\n",
    "    None, but prints the board to the screen.\n",
    "    \n",
    "    EXAMPLE\n",
    "    >>> board = [1, 2, 3, 4, 5, 6, 7, 8, 9]\n",
    "    >>> display_board(board)\n",
    "      7  |  8  |  9\n",
    "    -----------------\n",
    "      4  |  5  |  6\n",
    "    -----------------\n",
    "      1  |  2  |  3\n",
    "    '''\n",
    "    \n",
    "    # board assertions\n",
    "    assert isinstance(board, list), 'board must be a list object'\n",
    "    assert len(board) == 9, 'board must be a list of length 9'\n",
    "    \n",
    "    \n",
    "    # clear current output of cell\n",
    "    clear_output()\n",
    "    \n",
    "    # print the board to the screen\n",
    "    print(f'  {board[6]}  |  {board[7]}  |  {board[8]}')\n",
    "    print('-----------------')\n",
    "    print(f'  {board[3]}  |  {board[4]}  |  {board[5]}')\n",
    "    print('-----------------')\n",
    "    print(f'  {board[0]}  |  {board[1]}  |  {board[2]}')"
   ]
  },
  {
   "cell_type": "code",
   "execution_count": 2,
   "metadata": {},
   "outputs": [
    {
     "name": "stdout",
     "output_type": "stream",
     "text": [
      "  7  |  8  |  9\n",
      "-----------------\n",
      "  4  |  5  |  6\n",
      "-----------------\n",
      "  1  |  2  |  3\n"
     ]
    }
   ],
   "source": [
    "# test the function\n",
    "test_board = [1, 2, 3, 4, 5, 6, 7, 8, 9]\n",
    "display_board(test_board)"
   ]
  },
  {
   "cell_type": "markdown",
   "metadata": {},
   "source": [
    "### Choosing markers for players"
   ]
  },
  {
   "cell_type": "code",
   "execution_count": 3,
   "metadata": {},
   "outputs": [],
   "source": [
    "def choose_markers():\n",
    "    '''\n",
    "    Assigns a marker (X or O) of the user's choice to Player 1, and accordingly assigns the\n",
    "    other marker to Player 2.\n",
    "    \n",
    "    INPUTS\n",
    "    None, but input() is used to get Player 1's choice of marker.\n",
    "    \n",
    "    OUTPUTS\n",
    "    marker1: Player 1's marker.\n",
    "    marker2: Player 2's marker.\n",
    "    \n",
    "    EXAMPLE\n",
    "    >>> choose_markers()\n",
    "    Select a marker for Player 1 (X or O): O\n",
    "    \n",
    "    ('O', 'X')\n",
    "    '''\n",
    "    \n",
    "    # initialize variables with placeholder values\n",
    "    marker1, marker2 = 0, 0\n",
    "    \n",
    "    # assigns user input 'X' or 'O' to player 1\n",
    "    while marker1 != 'X' and marker1 != 'O':\n",
    "        marker1 = input('Select a marker for Player 1 (X or O): ')\n",
    "    \n",
    "    # assignment of other marker to player 2\n",
    "    if marker1 == 'X':\n",
    "        marker2 = 'O'\n",
    "    elif marker1 == 'O':\n",
    "        marker2 = 'X'\n",
    "    \n",
    "    return marker1, marker2"
   ]
  },
  {
   "cell_type": "code",
   "execution_count": 4,
   "metadata": {
    "scrolled": true
   },
   "outputs": [],
   "source": [
    "# # test the function\n",
    "# marker1, marker2 = choose_markers()\n",
    "# print(f\"Player 1's marker: {marker1}\")\n",
    "# print(f\"Player 2's marker: {marker2}\")"
   ]
  },
  {
   "cell_type": "markdown",
   "metadata": {},
   "source": [
    "### Placing a marker on the board"
   ]
  },
  {
   "cell_type": "code",
   "execution_count": 5,
   "metadata": {},
   "outputs": [],
   "source": [
    "def place_marker(board, marker, position):\n",
    "    '''\n",
    "    Updates the board by placing the specified marker at the specified position.\n",
    "    \n",
    "    INPUTS\n",
    "    board: The game board.\n",
    "    marker: The marker to place, either 'X' or 'O'.\n",
    "    position: An integer between 1-9 (inclusive) specifying the position on the board\n",
    "        where the specified marker is to be placed.  The board positions are mapped to\n",
    "        the keyboard numpad layout, i.e. the bottom left position is 1, the top right\n",
    "        position is 9, etc.\n",
    "        \n",
    "    OUTPUTS\n",
    "    board: The updated board.\n",
    "    \n",
    "    EXAMPLE\n",
    "    >>> test_board = [' ', ' ', ' ', ' ', ' ', ' ', ' ', ' ', ' ']\n",
    "    >>> place_marker(test_board, 'X', 2)\n",
    "    [' ', 'X', ' ', ' ', ' ', ' ', ' ', ' ', ' ']\n",
    "    '''\n",
    "    \n",
    "    # use the same assertions for the board parameter from the display_board() function\n",
    "    assert isinstance(board, list), 'board must be a list object'\n",
    "    assert len(board) == 9, 'board must be a list of length 9'\n",
    "    \n",
    "    # marker must be X or O\n",
    "    assert marker == 'X' or marker == 'O', \"marker must be either 'X' or 'O' (string)\"\n",
    "    \n",
    "    # position must be any integer from 1-9 inclusive\n",
    "    assert position in range(1, 10), 'position must be an integer between 1-9 inclusive'\n",
    "    \n",
    "    \n",
    "    # update the board position with the specified marker\n",
    "    board[position-1] = marker\n",
    "    # note that we must account for Python's 0-indexing by subtracting 1 from the specified position\n",
    "    \n",
    "    return board"
   ]
  },
  {
   "cell_type": "code",
   "execution_count": 6,
   "metadata": {},
   "outputs": [
    {
     "name": "stdout",
     "output_type": "stream",
     "text": [
      "     |     |   \n",
      "-----------------\n",
      "  X  |     |   \n",
      "-----------------\n",
      "     |     |   \n"
     ]
    }
   ],
   "source": [
    "# test the function\n",
    "test_board = [' ', ' ', ' ', ' ', ' ', ' ', ' ', ' ', ' '] # blank board\n",
    "display_board(place_marker(test_board, 'X', 4)) # place X in position 4"
   ]
  },
  {
   "cell_type": "markdown",
   "metadata": {},
   "source": [
    "### Check if a player has won the game"
   ]
  },
  {
   "cell_type": "code",
   "execution_count": 7,
   "metadata": {},
   "outputs": [],
   "source": [
    "def win_check(b, m):\n",
    "    '''\n",
    "    Checks if any win condition exists on the game board for the specified marker.\n",
    "    \n",
    "    INPUTS\n",
    "    b: The game board.\n",
    "    m: The marker, either 'X' or 'O'.\n",
    "    \n",
    "    OUTPUTS\n",
    "    win: A Boolean value (True or False) indicating whether a win condition has \n",
    "        been met or not (True indicating a win).\n",
    "    \n",
    "    EXAMPLE\n",
    "    >>> test_board = ['X', 'O', 'X', 'O', 'X', 'O', 'O', 'O', 'X']\n",
    "    >>> win_check(test_board, 'X')\n",
    "    True\n",
    "    '''\n",
    "    \n",
    "    # board assertions\n",
    "    assert isinstance(b, list), 'board b must be a list object'\n",
    "    assert len(b) == 9, 'board b must be a list of length 9'\n",
    "    \n",
    "    # marker assertion\n",
    "    assert m == 'X' or m == 'O', \"marker m must be either 'X' or 'O' (string)\"\n",
    "    \n",
    "    \n",
    "    # create a list of 3 elements of the same marker\n",
    "    w = [m] * 3\n",
    "    \n",
    "    # win scenarios\n",
    "    h1 = [b[0], b[1], b[2]] # bottom row\n",
    "    h4 = [b[3], b[4], b[5]] # middle row\n",
    "    h7 = [b[6], b[7], b[8]] # top row\n",
    "    c1 = [b[0], b[3], b[6]] # left column\n",
    "    c2 = [b[1], b[4], b[7]] # middle column\n",
    "    c3 = [b[2], b[5], b[8]] # right column\n",
    "    d1 = [b[0], b[4], b[8]] # bottom left to top right diagonal\n",
    "    d3 = [b[2], b[4], b[6]] # top left to bottom right diagonal\n",
    "    \n",
    "    # initialize boolean variable - false until proven true\n",
    "    win = False\n",
    "    \n",
    "    # check\n",
    "    if h1==w or h4==w or h7==w or c1==w or c2==w or c3==w or d1==w or d3==w:\n",
    "        win = True\n",
    "    \n",
    "    return win"
   ]
  },
  {
   "cell_type": "code",
   "execution_count": 8,
   "metadata": {},
   "outputs": [
    {
     "name": "stdout",
     "output_type": "stream",
     "text": [
      "  O  |  O  |  X\n",
      "-----------------\n",
      "  O  |  X  |  O\n",
      "-----------------\n",
      "  X  |  O  |  X\n",
      "\n",
      " Has 'X' won?  True\n",
      "Has 'O' won?  False\n"
     ]
    }
   ],
   "source": [
    "# test the function\n",
    "test_board = ['X', 'O', 'X', 'O', 'X', 'O', 'O', 'O', 'X']\n",
    "display_board(test_board)\n",
    "\n",
    "print('\\n', f\"Has 'X' won?  {win_check(test_board, 'X')}\")\n",
    "print(f\"Has 'O' won?  {win_check(test_board, 'O')}\")"
   ]
  },
  {
   "cell_type": "markdown",
   "metadata": {},
   "source": [
    "### Randomly determine which player goes first"
   ]
  },
  {
   "cell_type": "code",
   "execution_count": 9,
   "metadata": {},
   "outputs": [],
   "source": [
    "import random\n",
    "\n",
    "def choose_first():\n",
    "    '''\n",
    "    Randomly determine which player takes the first turn.\n",
    "    \n",
    "    INPUTS\n",
    "    None\n",
    "    \n",
    "    OUTPUTS\n",
    "    first_str: A string indicating which player will go first.\n",
    "    \n",
    "    EXAMPLE\n",
    "    >>> choose_first()\n",
    "    'Player 2 was randomly determined to go first.'\n",
    "    '''\n",
    "    \n",
    "    first = random.randint(1,2)\n",
    "    \n",
    "    first_str = f'Player {first} was randomly determined to go first.'\n",
    "    \n",
    "    return first_str"
   ]
  },
  {
   "cell_type": "code",
   "execution_count": 10,
   "metadata": {},
   "outputs": [
    {
     "data": {
      "text/plain": [
       "'Player 1 was randomly determined to go first.'"
      ]
     },
     "execution_count": 10,
     "metadata": {},
     "output_type": "execute_result"
    }
   ],
   "source": [
    "# test the function\n",
    "choose_first()"
   ]
  },
  {
   "cell_type": "markdown",
   "metadata": {},
   "source": [
    "### Check if a board space is available"
   ]
  },
  {
   "cell_type": "code",
   "execution_count": 11,
   "metadata": {},
   "outputs": [],
   "source": [
    "def is_space_free(board, position):\n",
    "    '''\n",
    "    Determine if a space on the board is free.\n",
    "    \n",
    "    INPUTS\n",
    "    board: The game board.\n",
    "    position: The space on the board that is to be checked.\n",
    "    \n",
    "    OUTPUTS\n",
    "    free: A Boolean value (True or False) indicating whether the specified position\n",
    "        on the board is free or not (True indicates the space is free).\n",
    "        \n",
    "    EXAMPLE\n",
    "    >>> board = [' ', 'X', 'O', 'X', 'O', 'X', 'O', 'X', 'O']\n",
    "    >>> is_space_free(board, 1)\n",
    "    True\n",
    "    '''\n",
    "    \n",
    "    # board assertions\n",
    "    assert isinstance(board, list), 'board must be a list object'\n",
    "    assert len(board) == 9, 'board must be a list of length 9'\n",
    "    \n",
    "    # position must be any integer from 1-9 inclusive\n",
    "    assert position in range(1, 10), 'position must be an integer between 1-9 inclusive'\n",
    "    \n",
    "    \n",
    "    # initialize free space check variable - false until proven true\n",
    "    free = False\n",
    "    \n",
    "    # check\n",
    "    if board[position-1] == ' ': # space is free\n",
    "        free = True\n",
    "    \n",
    "    return free"
   ]
  },
  {
   "cell_type": "code",
   "execution_count": 12,
   "metadata": {},
   "outputs": [
    {
     "name": "stdout",
     "output_type": "stream",
     "text": [
      "True\n",
      "False\n",
      "False\n",
      "False\n",
      "True\n",
      "False\n",
      "False\n",
      "False\n",
      "True\n"
     ]
    }
   ],
   "source": [
    "# test the function\n",
    "test_board = [' ', 'X', 'O', 'X', ' ', 'X', 'O', 'X', ' ']\n",
    "\n",
    "# check if each board position is free or not\n",
    "for i in range(len(test_board)):\n",
    "    print(is_space_free(test_board, i+1))"
   ]
  },
  {
   "cell_type": "markdown",
   "metadata": {},
   "source": [
    "### Check if the board is full"
   ]
  },
  {
   "cell_type": "code",
   "execution_count": 13,
   "metadata": {},
   "outputs": [],
   "source": [
    "def is_board_full(board):\n",
    "    '''\n",
    "    Check if there are no more free spaces on the board.\n",
    "    \n",
    "    INPUTS\n",
    "    board: The game board.\n",
    "    \n",
    "    OUTPUTS\n",
    "    full: A Boolean value (True or False) indicating whether the board is full or not.\n",
    "    \n",
    "    EXAMPLE\n",
    "    >>> test_board = [' ', 'O', 'O', 'O', 'O', 'O', 'O', 'O', 'O']\n",
    "    >>> is_board_full(test_board)\n",
    "    False\n",
    "    '''\n",
    "    \n",
    "    # board assertions\n",
    "    assert isinstance(board, list), 'board must be a list object'\n",
    "    assert len(board) == 9, 'board must be a list of length 9'\n",
    "    \n",
    "    \n",
    "    # initialize boolean variable - true until proven false\n",
    "    full = True\n",
    "    \n",
    "    # change boolean variable to false if there is an empty space on the board\n",
    "    if ' ' in board:\n",
    "        full = False\n",
    "    \n",
    "    return full"
   ]
  },
  {
   "cell_type": "code",
   "execution_count": 14,
   "metadata": {},
   "outputs": [
    {
     "name": "stdout",
     "output_type": "stream",
     "text": [
      "[' ', 'O', 'O', 'O', 'O', 'O', 'O', 'O', 'O']\n",
      "False \n",
      "\n",
      "['O', 'O', 'O', 'O', 'O', 'O', 'O', 'O', ' ']\n",
      "False \n",
      "\n",
      "['O', 'O', 'O', 'O', 'O', 'O', 'O', 'X', 'O']\n",
      "True\n"
     ]
    }
   ],
   "source": [
    "# test the function\n",
    "\n",
    "# not full\n",
    "test_board = [' ', 'O', 'O', 'O', 'O', 'O', 'O', 'O', 'O']\n",
    "print(test_board)\n",
    "print(is_board_full(test_board), '\\n')\n",
    "\n",
    "# not full\n",
    "test_board = ['O', 'O', 'O', 'O', 'O', 'O', 'O', 'O', ' ']\n",
    "print(test_board)\n",
    "print(is_board_full(test_board), '\\n')\n",
    "\n",
    "# full\n",
    "test_board = ['O', 'O', 'O', 'O', 'O', 'O', 'O', 'X', 'O']\n",
    "print(test_board)\n",
    "print(is_board_full(test_board))"
   ]
  },
  {
   "cell_type": "markdown",
   "metadata": {},
   "source": [
    "### Player's choice of next move"
   ]
  },
  {
   "cell_type": "code",
   "execution_count": 15,
   "metadata": {},
   "outputs": [],
   "source": [
    "def player_choice(board):\n",
    "    '''\n",
    "    Asks the player for the board position they would like to place their marker on,\n",
    "    then uses the is_space_free() function to check if that space is available.\n",
    "    This function does not update the board.  Returns the position index if the\n",
    "    space is free.\n",
    "    \n",
    "    INPUTS\n",
    "    board: The game board.\n",
    "    \n",
    "    OUTPUTS\n",
    "    position: The board position where the player would like to place their marker on.\n",
    "    \n",
    "    EXAMPLE\n",
    "    >>> test_board = [' ', ' ', ' ', ' ', 'X', 'O', ' ', ' ', ' ']\n",
    "    >>> display_board(test_board)\n",
    "         |     |   \n",
    "    -----------------\n",
    "         |  X  |  O\n",
    "    -----------------\n",
    "         |     |   \n",
    "    >>> player_choice(test_board)\n",
    "    Select a position on the board (1-9): x\n",
    "    Please choose an integer between 1-9 inclusive.\n",
    "    Select a position on the board (1-9): 6\n",
    "    That space is not available.\n",
    "    Select a position on the board (1-9): 7\n",
    "\n",
    "    7\n",
    "    '''\n",
    "    \n",
    "    # board assertions\n",
    "    assert isinstance(board, list), 'board must be a list object'\n",
    "    assert len(board) == 9, 'board must be a list of length 9'\n",
    "    \n",
    "    \n",
    "    # initialize variables\n",
    "    space_free = False\n",
    "    position = 0\n",
    "    \n",
    "    # since input() is a string, we will put the valid values in a list\n",
    "    valid_positions = ['1', '2', '3', '4', '5', '6', '7', '8', '9']\n",
    "    \n",
    "    # request an empty board position from the player\n",
    "    while space_free == False: # keep asking the player until they choose an empty space\n",
    "        \n",
    "        # obtain position from player input\n",
    "        while position not in valid_positions: # ensure that the input is 1-9 only\n",
    "            position = input('Select a position on the board (1-9): ')\n",
    "        position = int(position) # convert string input to integer once it is valid\n",
    "        \n",
    "        # check if the space is free\n",
    "        space_free = is_space_free(board, position)\n",
    "        if space_free == False:\n",
    "            print('That space is not available.') # print message if space is not free\n",
    "    \n",
    "    return position"
   ]
  },
  {
   "cell_type": "code",
   "execution_count": 16,
   "metadata": {},
   "outputs": [],
   "source": [
    "# # test the function\n",
    "# test_board = [' ', ' ', ' ', ' ', 'X', 'O', ' ', ' ', ' ']\n",
    "# display_board(test_board)\n",
    "# player_choice(test_board)"
   ]
  },
  {
   "cell_type": "markdown",
   "metadata": {},
   "source": [
    "### Ask player if they want to play again"
   ]
  },
  {
   "cell_type": "code",
   "execution_count": 17,
   "metadata": {},
   "outputs": [],
   "source": [
    "def replay():\n",
    "    '''\n",
    "    Ask if the players want to play another game.\n",
    "    \n",
    "    INPUTS\n",
    "    None\n",
    "    \n",
    "    OUTPUTS\n",
    "    replay_bool: A Boolean value (True or False) indicating whether the player wants\n",
    "        to play again (True) or not (False).\n",
    "    \n",
    "    EXAMPLE\n",
    "    >>> replay()\n",
    "    Do you want to play again?  Y/N: Y\n",
    "    \n",
    "    True\n",
    "    '''\n",
    "    \n",
    "    # initialize variables\n",
    "    replay = 0\n",
    "    replay_bool = False\n",
    "    \n",
    "    # obtain user input for replay\n",
    "    while replay != 'Y' and replay != 'N': # ensures input is Y/N only\n",
    "        replay = input('Do you want to play again? Y/N: ')\n",
    "    \n",
    "    # change boolean if replay is requested\n",
    "    if replay == 'Y':\n",
    "        replay_bool = True\n",
    "    \n",
    "    return replay_bool"
   ]
  },
  {
   "cell_type": "code",
   "execution_count": 18,
   "metadata": {},
   "outputs": [],
   "source": [
    "# # test the function\n",
    "# replay()"
   ]
  },
  {
   "cell_type": "markdown",
   "metadata": {},
   "source": [
    "---"
   ]
  },
  {
   "cell_type": "markdown",
   "metadata": {},
   "source": [
    "## **Play the Game!**\n",
    "\n",
    "Run the below cell to play."
   ]
  },
  {
   "cell_type": "code",
   "execution_count": 22,
   "metadata": {},
   "outputs": [
    {
     "name": "stdout",
     "output_type": "stream",
     "text": [
      "     |     |   \n",
      "-----------------\n",
      "  O  |  O  |   \n",
      "-----------------\n",
      "  X  |  X  |  X\n",
      "\n",
      "X wins!\n",
      "\n",
      "Do you want to play again? Y/N: N\n"
     ]
    }
   ],
   "source": [
    "clear_output()\n",
    "\n",
    "print('Welcome to Tic-Tac-Toe!')\n",
    "\n",
    "# initializing the game\n",
    "while True:\n",
    "    # initialize empty board\n",
    "    board = [' ', ' ', ' ', ' ', ' ', ' ', ' ', ' ', ' ']\n",
    "    \n",
    "    # assign markers\n",
    "    print('\\n')\n",
    "    marker1, marker2 = choose_markers()\n",
    "    print(f\"\\nPlayer 1's marker: {marker1}\")\n",
    "    print(f\"Player 2's marker: {marker2}\\n\")\n",
    "    \n",
    "    # determine which player goes first\n",
    "    first = choose_first()\n",
    "    print(first, '\\n')\n",
    "    \n",
    "    # re-assigning markers based on who got chosen first\n",
    "    if first[7] == '1':\n",
    "        pass\n",
    "    elif first[7] == '2':\n",
    "        store = marker2\n",
    "        marker2 = marker1\n",
    "        marker1 = store\n",
    "    \n",
    "    # gameplay\n",
    "    while True:\n",
    "        \n",
    "        # check for full board in between turns\n",
    "        if is_board_full(board):\n",
    "            print('\\nThe game has ended in a draw.\\n')\n",
    "            break\n",
    "        \n",
    "        # first player's turn\n",
    "        print(f\"\\n{marker1}'s turn.\")\n",
    "        print('\\n')\n",
    "        \n",
    "        # first player placing marker\n",
    "        space1 = False # initialize space check variable\n",
    "        while space1 == False:\n",
    "            position1 = player_choice(board) # obtain desired position\n",
    "            space1 = is_space_free(board, position1) # check if requested position is free\n",
    "        board = place_marker(board, marker1, position1) # place marker on requested position\n",
    "        display_board(board)\n",
    "        \n",
    "        # check if first player has won\n",
    "        if win_check(board, marker1):\n",
    "            print(f'\\n{marker1} wins!\\n')\n",
    "            break\n",
    "        else:\n",
    "            pass\n",
    "        \n",
    "        # check for full board in between turns\n",
    "        if is_board_full(board):\n",
    "            print('\\nThe game has ended in a draw.\\n')\n",
    "            break\n",
    "        \n",
    "        # second player's turn\n",
    "        print(f'\\n{marker2}\\'s turn.')\n",
    "        print('\\n')\n",
    "        \n",
    "        # second player placing marker\n",
    "        space2 = False # initialize space check variable\n",
    "        while space2 == False:\n",
    "            position2 = player_choice(board) # obtain desired position\n",
    "            space2 = is_space_free(board, position2) # check if requested position is free\n",
    "        board = place_marker(board, marker2, position2) # place marker on requested position\n",
    "        display_board(board)\n",
    "        \n",
    "        # check if second player has won\n",
    "        if win_check(board, marker2):\n",
    "            print(f'\\n{marker2} wins!\\n')\n",
    "            break\n",
    "        else:\n",
    "            pass\n",
    "    \n",
    "    # ask if players want to play again\n",
    "    if replay(): # rematch\n",
    "        clear_output()\n",
    "    else: # end game\n",
    "        break"
   ]
  }
 ],
 "metadata": {
  "kernelspec": {
   "display_name": "Python 3",
   "language": "python",
   "name": "python3"
  },
  "language_info": {
   "codemirror_mode": {
    "name": "ipython",
    "version": 3
   },
   "file_extension": ".py",
   "mimetype": "text/x-python",
   "name": "python",
   "nbconvert_exporter": "python",
   "pygments_lexer": "ipython3",
   "version": "3.7.4"
  }
 },
 "nbformat": 4,
 "nbformat_minor": 2
}
